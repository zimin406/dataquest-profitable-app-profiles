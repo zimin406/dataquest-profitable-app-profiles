{
 "cells": [
  {
   "cell_type": "markdown",
   "metadata": {},
   "source": [
    "# Guided Project: Profitable App Profiles for the App Store and Google Play Markets"
   ]
  },
  {
   "cell_type": "markdown",
   "metadata": {},
   "source": [
    "1. Open `AppleStore.csv` and `GooglePlayStore.csv`\n",
    "2. Convert dataset files to list"
   ]
  },
  {
   "cell_type": "code",
   "execution_count": 1,
   "metadata": {},
   "outputs": [
    {
     "name": "stdout",
     "output_type": "stream",
     "text": [
      "[['id', 'track_name', 'size_bytes', 'currency', 'price', 'rating_count_tot', 'rating_count_ver', 'user_rating', 'user_rating_ver', 'ver', 'cont_rating', 'prime_genre', 'sup_devices.num', 'ipadSc_urls.num', 'lang.num', 'vpp_lic'], ['284882215', 'Facebook', '389879808', 'USD', '0.0', '2974676', '212', '3.5', '3.5', '95.0', '4+', 'Social Networking', '37', '1', '29', '1'], ['389801252', 'Instagram', '113954816', 'USD', '0.0', '2161558', '1289', '4.5', '4.0', '10.23', '12+', 'Photo & Video', '37', '0', '29', '1'], ['529479190', 'Clash of Clans', '116476928', 'USD', '0.0', '2130805', '579', '4.5', '4.5', '9.24.12', '9+', 'Games', '38', '5', '18', '1'], ['420009108', 'Temple Run', '65921024', 'USD', '0.0', '1724546', '3842', '4.5', '4.0', '1.6.2', '9+', 'Games', '40', '5', '1', '1']]\n",
      "[['App', 'Category', 'Rating', 'Reviews', 'Size', 'Installs', 'Type', 'Price', 'Content Rating', 'Genres', 'Last Updated', 'Current Ver', 'Android Ver'], ['Photo Editor & Candy Camera & Grid & ScrapBook', 'ART_AND_DESIGN', '4.1', '159', '19M', '10,000+', 'Free', '0', 'Everyone', 'Art & Design', 'January 7, 2018', '1.0.0', '4.0.3 and up'], ['Coloring book moana', 'ART_AND_DESIGN', '3.9', '967', '14M', '500,000+', 'Free', '0', 'Everyone', 'Art & Design;Pretend Play', 'January 15, 2018', '2.0.0', '4.0.3 and up'], ['U Launcher Lite – FREE Live Cool Themes, Hide Apps', 'ART_AND_DESIGN', '4.7', '87510', '8.7M', '5,000,000+', 'Free', '0', 'Everyone', 'Art & Design', 'August 1, 2018', '1.2.4', '4.0.3 and up'], ['Sketch - Draw & Paint', 'ART_AND_DESIGN', '4.5', '215644', '25M', '50,000,000+', 'Free', '0', 'Teen', 'Art & Design', 'June 8, 2018', 'Varies with device', '4.2 and up']]\n"
     ]
    }
   ],
   "source": [
    "from csv import reader\n",
    "app_store = list(reader(open('../datasets/AppleStore.csv')))\n",
    "google_play_store = list(reader(open('../datasets/GooglePlayStore.csv')))\n",
    "\n",
    "print(app_store[:5])\n",
    "print(google_play_store[:5])"
   ]
  },
  {
   "cell_type": "markdown",
   "metadata": {},
   "source": [
    "1. `get_size()`: Return a dictionary that contains the number of rows and columns of a dataset\n",
    "2. `print_slice()`: Perform list slicing to a dataset and return the result"
   ]
  },
  {
   "cell_type": "code",
   "execution_count": 2,
   "metadata": {},
   "outputs": [
    {
     "name": "stdout",
     "output_type": "stream",
     "text": [
      "10841\n",
      "13\n",
      "0 th row: ['id', 'track_name', 'size_bytes', 'currency', 'price', 'rating_count_tot', 'rating_count_ver', 'user_rating', 'user_rating_ver', 'ver', 'cont_rating', 'prime_genre', 'sup_devices.num', 'ipadSc_urls.num', 'lang.num', 'vpp_lic']\n",
      "1 th row: ['284882215', 'Facebook', '389879808', 'USD', '0.0', '2974676', '212', '3.5', '3.5', '95.0', '4+', 'Social Networking', '37', '1', '29', '1']\n",
      "2 th row: ['389801252', 'Instagram', '113954816', 'USD', '0.0', '2161558', '1289', '4.5', '4.0', '10.23', '12+', 'Photo & Video', '37', '0', '29', '1']\n",
      "3 th row: ['529479190', 'Clash of Clans', '116476928', 'USD', '0.0', '2130805', '579', '4.5', '4.5', '9.24.12', '9+', 'Games', '38', '5', '18', '1']\n",
      "4 th row: ['420009108', 'Temple Run', '65921024', 'USD', '0.0', '1724546', '3842', '4.5', '4.0', '1.6.2', '9+', 'Games', '40', '5', '1', '1']\n"
     ]
    }
   ],
   "source": [
    "def get_size(dataset, isHeader = False):\n",
    "    return {\n",
    "        'rows': len(dataset) - 1 * int(isHeader),\n",
    "        'columns': len(dataset[0])\n",
    "    }\n",
    "\n",
    "print(get_size(google_play_store, isHeader = True)['rows'])\n",
    "print(get_size(google_play_store, isHeader = True)['columns'])\n",
    "\n",
    "def print_slice(dataset, start, end):\n",
    "    for i in range(start, end):\n",
    "        print(i, \"th row:\", dataset[i])\n",
    "\n",
    "print_slice(app_store, 0, 5)"
   ]
  },
  {
   "cell_type": "markdown",
   "metadata": {},
   "source": [
    "Clean incorrect entry in `GooglePlayStore.csv`"
   ]
  },
  {
   "cell_type": "code",
   "execution_count": 3,
   "metadata": {},
   "outputs": [
    {
     "name": "stdout",
     "output_type": "stream",
     "text": [
      "['Life Made WI-Fi Touchscreen Photo Frame', '1.9', '19', '3.0M', '1,000+', 'Free', '0', 'Everyone', '', 'February 11, 2018', '1.0.19', '4.0 and up']\n"
     ]
    }
   ],
   "source": [
    "print(google_play_store[10473])\n",
    "\n",
    "del google_play_store[10473]"
   ]
  },
  {
   "cell_type": "markdown",
   "metadata": {},
   "source": [
    "`remove_duplicate()`: Remove duplicate entries from dataset"
   ]
  },
  {
   "cell_type": "code",
   "execution_count": 4,
   "metadata": {},
   "outputs": [
    {
     "name": "stdout",
     "output_type": "stream",
     "text": [
      "10841\n",
      "9659\n"
     ]
    }
   ],
   "source": [
    "def remove_duplicate(dataset, is_header = False):\n",
    "    unique_entries = {}\n",
    "    duplicate_names = []\n",
    "    start = int(is_header)\n",
    "    for row in dataset[start:]:\n",
    "        row_name = row[0]\n",
    "        if row_name not in unique_entries:\n",
    "            unique_entries[row_name] = [row]\n",
    "        else:\n",
    "            unique_entries[row_name].append(row)\n",
    "            if row_name not in duplicate_names:\n",
    "                duplicate_names.append(row_name)\n",
    "\n",
    "    keep_entries = {}\n",
    "\n",
    "    for name in duplicate_names:\n",
    "        duplicate_entries = unique_entries[name]\n",
    "        previous_reviews = int(duplicate_entries[0][3])\n",
    "        for entry in duplicate_entries[1:]:\n",
    "            entry_reviews = int(entry[3])\n",
    "            if entry_reviews > previous_reviews:\n",
    "                previous_reviews = entry_reviews\n",
    "        keep_entries[name] = previous_reviews\n",
    "\n",
    "    clean_dataset = []\n",
    "    clean_dataset_names = []\n",
    "\n",
    "    for row in dataset[start:]:\n",
    "        row_name = row[0]\n",
    "        row_reviews = int(row[3])\n",
    "        if row_name not in duplicate_names:\n",
    "            clean_dataset.append(row)\n",
    "            clean_dataset_names.append(row[0])\n",
    "        else:\n",
    "            if (row_reviews == keep_entries[row_name]) and (row_name not in clean_dataset_names):\n",
    "                clean_dataset.append(row)\n",
    "                clean_dataset_names.append(row[0])\n",
    "    return clean_dataset\n",
    "\n",
    "print(len(google_play_store))\n",
    "\n",
    "google_play_store_clean = remove_duplicate(google_play_store[1:])\n",
    "\n",
    "print(len(google_play_store_clean))"
   ]
  },
  {
   "cell_type": "markdown",
   "metadata": {},
   "source": [
    "1. `is_english()`: Decide whether a string contains non-ASCII character\n",
    "    - Return `True` when string is only comprised of ASCII characters\n",
    "    - Return `False` when string contains more than 1 non-ASCII character\n",
    "2. `is_english_modified()`:\n",
    "    - Return `True` when string contains less than 3 non-ASCII characters\n",
    "    - Return `False` when string contains more than 3 non-ASCII characters"
   ]
  },
  {
   "cell_type": "code",
   "execution_count": 5,
   "metadata": {},
   "outputs": [
    {
     "name": "stdout",
     "output_type": "stream",
     "text": [
      "True\n",
      "False\n",
      "False\n",
      "False\n",
      "True\n",
      "False\n",
      "True\n",
      "True\n"
     ]
    }
   ],
   "source": [
    "def is_english(str):\n",
    "    for ch in str:\n",
    "        if ord(ch) > 127:\n",
    "            return False\n",
    "    return True\n",
    "\n",
    "print(is_english('Instagram'))\n",
    "print(is_english('爱奇艺PPS -《欢乐颂2》电视剧热播'))\n",
    "print(is_english('Docs To Go™ Free Office Suite'))\n",
    "print(is_english('Instachat 😜'))\n",
    "\n",
    "def is_english_modified(str):\n",
    "    non_ascii_count = 0\n",
    "    for ch in str:\n",
    "        if ord(ch) > 127:\n",
    "            non_ascii_count += 1\n",
    "            if non_ascii_count > 3:\n",
    "                return False\n",
    "    return True\n",
    "\n",
    "print(is_english_modified('Instagram'))\n",
    "print(is_english_modified('爱奇艺PPS -《欢乐颂2》电视剧热播'))\n",
    "print(is_english_modified('Docs To Go™ Free Office Suite'))\n",
    "print(is_english_modified('Instachat 😜'))"
   ]
  },
  {
   "cell_type": "markdown",
   "metadata": {},
   "source": [
    "`filter_english()`: Remove entries which has non-English name using `non-english-modified()`"
   ]
  },
  {
   "cell_type": "code",
   "execution_count": 6,
   "metadata": {},
   "outputs": [
    {
     "name": "stdout",
     "output_type": "stream",
     "text": [
      "7198\n",
      "6183\n",
      "10841\n",
      "9614\n"
     ]
    }
   ],
   "source": [
    "def filter_english(dataset, name_index, is_header = False):\n",
    "    english_dataset = []\n",
    "    start = int(is_header)\n",
    "    for row in dataset[start:]:\n",
    "        row_name = row[name_index]\n",
    "        if is_english_modified(row_name):\n",
    "            english_dataset.append(row)\n",
    "    return english_dataset\n",
    "\n",
    "print(len(app_store))\n",
    "print(len(filter_english(app_store[1:], 1)))\n",
    "\n",
    "print(len(google_play_store))\n",
    "print(len(filter_english(google_play_store_clean, 0)))"
   ]
  },
  {
   "cell_type": "markdown",
   "metadata": {},
   "source": [
    "Store free apps and non-free apps of `AppleStore.csv` and `GooglePlayStore.csv` in separate lists"
   ]
  },
  {
   "cell_type": "code",
   "execution_count": 7,
   "metadata": {},
   "outputs": [
    {
     "name": "stdout",
     "output_type": "stream",
     "text": [
      "['Photo Editor & Candy Camera & Grid & ScrapBook', '0']\n",
      "['U Launcher Lite – FREE Live Cool Themes, Hide Apps', '0']\n",
      "['Sketch - Draw & Paint', '0']\n",
      "['Pixel Draw - Number Art Coloring Book', '0']\n",
      "['Paper flowers instructions', '0']\n",
      "['TurboScan: scan documents and receipts in PDF', '$4.99']\n",
      "['Tiny Scanner Pro: PDF Doc Scan', '$4.99']\n",
      "['Puffin Browser Pro', '$3.99']\n",
      "['Truth or Dare Pro', '$1.49']\n",
      "['Private Dating, Hide App- Blue for PrivacyHider', '$2.99']\n",
      "['284882215', '0.0']\n",
      "['389801252', '0.0']\n",
      "['529479190', '0.0']\n",
      "['420009108', '0.0']\n",
      "['284035177', '0.0']\n",
      "['362949845', '1.99']\n",
      "['500116670', '0.99']\n",
      "['479516143', '6.99']\n",
      "['350642635', '0.99']\n",
      "['307727765', '0.99']\n"
     ]
    }
   ],
   "source": [
    "google_play_store_free = []\n",
    "google_play_store_non_free = []\n",
    "\n",
    "for row in google_play_store_clean:\n",
    "    row_price = row[7]\n",
    "    if row_price == '0':\n",
    "        google_play_store_free.append(row)\n",
    "    else:\n",
    "        google_play_store_non_free.append(row)\n",
    "\n",
    "for row in google_play_store_free[:5]:\n",
    "    print([row[0], row[7]])\n",
    "for row in google_play_store_non_free[:5]:\n",
    "    print([row[0], row[7]])\n",
    "\n",
    "app_store_free = []\n",
    "app_store_non_free = []\n",
    "\n",
    "for row in app_store[1:]:\n",
    "    row_price = row[4]\n",
    "    if row_price == '0.0':\n",
    "        app_store_free.append(row)\n",
    "    else:\n",
    "        app_store_non_free.append(row)\n",
    "\n",
    "for row in app_store_free[:5]:\n",
    "    print([row[0], row[4]])\n",
    "for row in app_store_non_free[:5]:\n",
    "    print([row[0], row[4]])"
   ]
  },
  {
   "cell_type": "markdown",
   "metadata": {},
   "source": [
    "`frequency_table()`: Generate a frequency table from a column of a dataset"
   ]
  },
  {
   "cell_type": "code",
   "execution_count": 8,
   "metadata": {},
   "outputs": [],
   "source": [
    "def frequency_table(dataset, column_index, is_header = False):\n",
    "    freq_table = {}\n",
    "    start = int(is_header)\n",
    "    for row in dataset[start:]:\n",
    "        row_column = row[column_index]\n",
    "        if row_column not in freq_table:\n",
    "            freq_table[row_column] = 1\n",
    "        else:\n",
    "            freq_table[row_column] += 1\n",
    "    return freq_table\n",
    "\n",
    "def percentage_table(dataset, column_index, is_header = False):\n",
    "    freq_table = frequency_table(dataset, column_index, is_header = is_header)\n",
    "    percent_table = {}\n",
    "    total_frequency = len(dataset) - int(is_header)\n",
    "    for unique_value in freq_table:\n",
    "        frequency = freq_table[unique_value]\n",
    "        percent = frequency / total_frequency * 100\n",
    "        percent_table[unique_value] = percent\n",
    "    return percent_table\n",
    "\n",
    "def get_table(table, reverse = True):\n",
    "    display_table = []\n",
    "    for key in table:\n",
    "        value = table[key]\n",
    "        table_tuple = (value, key)\n",
    "        display_table.append(table_tuple)\n",
    "    sorted_table = sorted(display_table, reverse = reverse)\n",
    "    return sorted_table"
   ]
  },
  {
   "cell_type": "markdown",
   "metadata": {},
   "source": [
    "Most Common Apps by Genre"
   ]
  },
  {
   "cell_type": "code",
   "execution_count": 28,
   "metadata": {},
   "outputs": [
    {
     "name": "stdout",
     "output_type": "stream",
     "text": [
      "8864\n",
      "3222\n",
      "[(1676, 'FAMILY'), (862, 'GAME'), (750, 'TOOLS'), (407, 'BUSINESS'), (346, 'LIFESTYLE'), (345, 'PRODUCTIVITY'), (328, 'FINANCE'), (313, 'MEDICAL'), (301, 'SPORTS'), (294, 'PERSONALIZATION'), (287, 'COMMUNICATION'), (273, 'HEALTH_AND_FITNESS'), (261, 'PHOTOGRAPHY'), (248, 'NEWS_AND_MAGAZINES'), (236, 'SOCIAL'), (207, 'TRAVEL_AND_LOCAL'), (199, 'SHOPPING'), (190, 'BOOKS_AND_REFERENCE'), (165, 'DATING'), (159, 'VIDEO_PLAYERS'), (124, 'MAPS_AND_NAVIGATION'), (110, 'FOOD_AND_DRINK'), (103, 'EDUCATION'), (85, 'ENTERTAINMENT'), (83, 'LIBRARIES_AND_DEMO'), (82, 'AUTO_AND_VEHICLES'), (73, 'HOUSE_AND_HOME'), (71, 'WEATHER'), (63, 'EVENTS'), (58, 'PARENTING'), (56, 'ART_AND_DESIGN'), (55, 'COMICS'), (53, 'BEAUTY')]\n",
      "[(8.450863138892023, 'Tools'), (6.070179397495204, 'Entertainment'), (5.348076272142616, 'Education'), (4.592124562789123, 'Business'), (3.8925871601038025, 'Productivity'), (3.8925871601038025, 'Lifestyle'), (3.7007785174320205, 'Finance'), (3.5315355974275078, 'Medical'), (3.463838429425702, 'Sports'), (3.317161232088458, 'Personalization'), (3.2381812027530184, 'Communication'), (3.102786866749408, 'Action'), (3.0802211440821394, 'Health & Fitness'), (2.944826808078529, 'Photography'), (2.798149610741284, 'News & Magazines'), (2.6627552747376737, 'Social'), (2.324269434728647, 'Travel & Local'), (2.245289405393208, 'Shopping'), (2.1437436533904997, 'Books & Reference'), (2.042197901387792, 'Simulation'), (1.8616721200496444, 'Dating'), (1.8503892587160102, 'Arcade'), (1.771409229380571, 'Video Players & Editors'), (1.7601263680469368, 'Casual'), (1.399074805370642, 'Maps & Navigation'), (1.241114746699763, 'Food & Drink'), (1.128286133363421, 'Puzzle'), (0.9928917973598104, 'Racing'), (0.9364774906916393, 'Role Playing'), (0.9364774906916393, 'Libraries & Demo'), (0.9251946293580051, 'Auto & Vehicles'), (0.9139117680243709, 'Strategy'), (0.8236488773552973, 'House & Home'), (0.8010831546880289, 'Weather'), (0.7108202640189552, 'Events'), (0.6769716800180525, 'Adventure'), (0.6092745120162473, 'Comics'), (0.5979916506826132, 'Beauty'), (0.5867087893489789, 'Art & Design'), (0.4964458986799052, 'Parenting'), (0.4513144533453684, 'Card'), (0.42874873067809993, 'Casino'), (0.4174658693444658, 'Trivia'), (0.3949001466771973, 'Educational;Education'), (0.38361728534356315, 'Board'), (0.37233442400992894, 'Educational'), (0.33848584000902626, 'Education;Education'), (0.25950581067358686, 'Word'), (0.2369400880063184, 'Casual;Pretend Play'), (0.20309150400541578, 'Music'), (0.16924292000451313, 'Racing;Action & Adventure'), (0.16924292000451313, 'Puzzle;Brain Games'), (0.16924292000451313, 'Entertainment;Music & Video'), (0.1353943360036105, 'Casual;Brain Games'), (0.1353943360036105, 'Casual;Action & Adventure'), (0.1241114746699763, 'Arcade;Action & Adventure'), (0.10154575200270789, 'Action;Action & Adventure'), (0.09026289066907367, 'Educational;Pretend Play'), (0.07898002933543948, 'Simulation;Action & Adventure'), (0.07898002933543948, 'Parenting;Education'), (0.07898002933543948, 'Entertainment;Brain Games'), (0.07898002933543948, 'Board;Brain Games'), (0.06769716800180525, 'Parenting;Music & Video'), (0.06769716800180525, 'Educational;Brain Games'), (0.06769716800180525, 'Casual;Creativity'), (0.06769716800180525, 'Art & Design;Creativity'), (0.05641430666817105, 'Education;Pretend Play'), (0.045131445334536835, 'Role Playing;Pretend Play'), (0.045131445334536835, 'Education;Creativity'), (0.033848584000902626, 'Role Playing;Action & Adventure'), (0.033848584000902626, 'Puzzle;Action & Adventure'), (0.033848584000902626, 'Entertainment;Creativity'), (0.033848584000902626, 'Entertainment;Action & Adventure'), (0.033848584000902626, 'Educational;Creativity'), (0.033848584000902626, 'Educational;Action & Adventure'), (0.033848584000902626, 'Education;Music & Video'), (0.033848584000902626, 'Education;Brain Games'), (0.033848584000902626, 'Education;Action & Adventure'), (0.033848584000902626, 'Adventure;Action & Adventure'), (0.022565722667268417, 'Video Players & Editors;Music & Video'), (0.022565722667268417, 'Sports;Action & Adventure'), (0.022565722667268417, 'Simulation;Pretend Play'), (0.022565722667268417, 'Puzzle;Creativity'), (0.022565722667268417, 'Music;Music & Video'), (0.022565722667268417, 'Entertainment;Pretend Play'), (0.022565722667268417, 'Casual;Education'), (0.022565722667268417, 'Board;Action & Adventure'), (0.011282861333634209, 'Video Players & Editors;Creativity'), (0.011282861333634209, 'Trivia;Education'), (0.011282861333634209, 'Travel & Local;Action & Adventure'), (0.011282861333634209, 'Tools;Education'), (0.011282861333634209, 'Strategy;Education'), (0.011282861333634209, 'Strategy;Creativity'), (0.011282861333634209, 'Strategy;Action & Adventure'), (0.011282861333634209, 'Simulation;Education'), (0.011282861333634209, 'Role Playing;Brain Games'), (0.011282861333634209, 'Racing;Pretend Play'), (0.011282861333634209, 'Puzzle;Education'), (0.011282861333634209, 'Parenting;Brain Games'), (0.011282861333634209, 'Music & Audio;Music & Video'), (0.011282861333634209, 'Lifestyle;Pretend Play'), (0.011282861333634209, 'Lifestyle;Education'), (0.011282861333634209, 'Health & Fitness;Education'), (0.011282861333634209, 'Health & Fitness;Action & Adventure'), (0.011282861333634209, 'Entertainment;Education'), (0.011282861333634209, 'Communication;Creativity'), (0.011282861333634209, 'Comics;Creativity'), (0.011282861333634209, 'Casual;Music & Video'), (0.011282861333634209, 'Card;Action & Adventure'), (0.011282861333634209, 'Books & Reference;Education'), (0.011282861333634209, 'Art & Design;Pretend Play'), (0.011282861333634209, 'Art & Design;Action & Adventure'), (0.011282861333634209, 'Arcade;Pretend Play'), (0.011282861333634209, 'Adventure;Education')]\n",
      "[(1874, 'Games'), (254, 'Entertainment'), (160, 'Photo & Video'), (118, 'Education'), (105, 'Social Networking'), (84, 'Shopping'), (81, 'Utilities'), (69, 'Sports'), (66, 'Music'), (65, 'Health & Fitness'), (56, 'Productivity'), (51, 'Lifestyle'), (43, 'News'), (40, 'Travel'), (36, 'Finance'), (28, 'Weather'), (26, 'Food & Drink'), (18, 'Reference'), (17, 'Business'), (14, 'Book'), (6, 'Navigation'), (6, 'Medical'), (4, 'Catalogs')]\n"
     ]
    }
   ],
   "source": [
    "google_play_store_target = filter_english(google_play_store_free, 0)\n",
    "app_store_target = filter_english(app_store_free, 1)\n",
    "\n",
    "print(len(google_play_store_target))\n",
    "print(len(app_store_target))\n",
    "\n",
    "google_play_store_category = get_table(frequency_table(google_play_store_target, 1, is_header = True))\n",
    "print(google_play_store_category)\n",
    "\n",
    "google_play_store_genres = get_table(percentage_table(google_play_store_target, 9, is_header = True))\n",
    "print(google_play_store_genres)\n",
    "\n",
    "app_store_prime_genre = get_table(frequency_table(app_store_target, 11, is_header = True))\n",
    "print(app_store_prime_genre)"
   ]
  },
  {
   "cell_type": "markdown",
   "metadata": {},
   "source": [
    "Most Popular Apps by Genre on the App Store"
   ]
  },
  {
   "cell_type": "code",
   "execution_count": 27,
   "metadata": {},
   "outputs": [
    {
     "name": "stdout",
     "output_type": "stream",
     "text": [
      "[(86090.33333333333, 'Navigation'), (74942.11111111111, 'Reference'), (72229.76190476191, 'Social Networking'), (57326.530303030304, 'Music'), (52279.892857142855, 'Weather'), (39758.5, 'Book'), (33333.92307692308, 'Food & Drink'), (31467.944444444445, 'Finance'), (28441.54375, 'Photo & Video'), (28243.8, 'Travel'), (26919.690476190477, 'Shopping'), (23298.015384615384, 'Health & Fitness'), (23008.898550724636, 'Sports'), (22788.6696905016, 'Games'), (21248.023255813954, 'News'), (21028.410714285714, 'Productivity'), (18684.456790123455, 'Utilities'), (16485.764705882353, 'Lifestyle'), (14029.830708661417, 'Entertainment'), (7491.117647058823, 'Business'), (7003.983050847458, 'Education'), (4004.0, 'Catalogs'), (612.0, 'Medical')]\n"
     ]
    }
   ],
   "source": [
    "app_store_average_rating_count = []\n",
    "\n",
    "for cell in app_store_prime_genre:\n",
    "    prime_genre = cell[1]\n",
    "    app_count = cell[0]\n",
    "    total_rating_count = 0\n",
    "    for row in app_store_target:\n",
    "        row_prime_genre = row[11]\n",
    "        row_total_rating_count = int(row[5])\n",
    "        if row_prime_genre == prime_genre:\n",
    "            total_rating_count += row_total_rating_count\n",
    "    app_store_average_rating_count.append((total_rating_count / app_count, prime_genre))\n",
    "\n",
    "print(sorted(app_store_average_rating_count, reverse = True))"
   ]
  },
  {
   "cell_type": "markdown",
   "metadata": {},
   "source": [
    "Most Popular Apps by Genre on Google Play"
   ]
  },
  {
   "cell_type": "code",
   "execution_count": 30,
   "metadata": {},
   "outputs": [
    {
     "name": "stdout",
     "output_type": "stream",
     "text": [
      "[(38456119.167247385, 'COMMUNICATION'), (24727872.452830188, 'VIDEO_PLAYERS'), (23253652.127118643, 'SOCIAL'), (17840110.40229885, 'PHOTOGRAPHY'), (16787331.344927534, 'PRODUCTIVITY'), (15588015.603248259, 'GAME'), (13984077.710144928, 'TRAVEL_AND_LOCAL'), (11640705.88235294, 'ENTERTAINMENT'), (10801391.298666667, 'TOOLS'), (9549178.467741935, 'NEWS_AND_MAGAZINES'), (8767811.894736841, 'BOOKS_AND_REFERENCE'), (7036877.311557789, 'SHOPPING'), (5201482.6122448975, 'PERSONALIZATION'), (5074486.197183099, 'WEATHER'), (4188821.9853479853, 'HEALTH_AND_FITNESS'), (4056941.7741935486, 'MAPS_AND_NAVIGATION'), (3695641.8198090694, 'FAMILY'), (3638640.1428571427, 'SPORTS'), (2021805.357142857, 'ART_AND_DESIGN'), (1924897.7363636363, 'FOOD_AND_DRINK'), (1833495.145631068, 'EDUCATION'), (1712290.1474201474, 'BUSINESS'), (1437816.2687861272, 'LIFESTYLE'), (1387692.475609756, 'FINANCE'), (1331540.5616438356, 'HOUSE_AND_HOME'), (854028.8303030303, 'DATING'), (817657.2727272727, 'COMICS'), (647317.8170731707, 'AUTO_AND_VEHICLES'), (638503.734939759, 'LIBRARIES_AND_DEMO'), (542603.6206896552, 'PARENTING'), (513151.88679245283, 'BEAUTY'), (253542.22222222222, 'EVENTS'), (120550.61980830671, 'MEDICAL')]\n"
     ]
    }
   ],
   "source": [
    "google_play_store_average_installs = []\n",
    "\n",
    "for cell in google_play_store_category:\n",
    "    category = cell[1]\n",
    "    app_count = cell[0]\n",
    "    total_installs = 0\n",
    "    for row in google_play_store_target:\n",
    "        row_category = row[1]\n",
    "        row_installs_temp = row[5]\n",
    "        row_installs = int(row_installs_temp.replace('+', '').replace(',', ''))\n",
    "        if category == row_category:\n",
    "            total_installs += row_installs\n",
    "    google_play_store_average_installs.append((total_installs / app_count,category))\n",
    "\n",
    "print(sorted(google_play_store_average_installs, reverse = True))\n",
    "\n"
   ]
  }
 ],
 "metadata": {
  "kernelspec": {
   "display_name": "Python 3",
   "language": "python",
   "name": "python3"
  },
  "language_info": {
   "codemirror_mode": {
    "name": "ipython",
    "version": 3
   },
   "file_extension": ".py",
   "mimetype": "text/x-python",
   "name": "python",
   "nbconvert_exporter": "python",
   "pygments_lexer": "ipython3",
   "version": "3.12.3"
  }
 },
 "nbformat": 4,
 "nbformat_minor": 2
}
