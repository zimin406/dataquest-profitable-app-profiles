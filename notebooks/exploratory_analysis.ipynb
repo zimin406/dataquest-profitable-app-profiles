{
 "cells": [
  {
   "cell_type": "markdown",
   "metadata": {},
   "source": [
    "# Guided Project: Profitable App Profiles for the App Store and Google Play Markets"
   ]
  },
  {
   "cell_type": "markdown",
   "metadata": {},
   "source": [
    "1. Open `AppleStore.csv` and `GooglePlayStore.csv`\n",
    "2. Convert dataset files to list"
   ]
  },
  {
   "cell_type": "code",
   "execution_count": 11,
   "metadata": {},
   "outputs": [
    {
     "name": "stdout",
     "output_type": "stream",
     "text": [
      "[['id', 'track_name', 'size_bytes', 'currency', 'price', 'rating_count_tot', 'rating_count_ver', 'user_rating', 'user_rating_ver', 'ver', 'cont_rating', 'prime_genre', 'sup_devices.num', 'ipadSc_urls.num', 'lang.num', 'vpp_lic'], ['284882215', 'Facebook', '389879808', 'USD', '0.0', '2974676', '212', '3.5', '3.5', '95.0', '4+', 'Social Networking', '37', '1', '29', '1'], ['389801252', 'Instagram', '113954816', 'USD', '0.0', '2161558', '1289', '4.5', '4.0', '10.23', '12+', 'Photo & Video', '37', '0', '29', '1'], ['529479190', 'Clash of Clans', '116476928', 'USD', '0.0', '2130805', '579', '4.5', '4.5', '9.24.12', '9+', 'Games', '38', '5', '18', '1'], ['420009108', 'Temple Run', '65921024', 'USD', '0.0', '1724546', '3842', '4.5', '4.0', '1.6.2', '9+', 'Games', '40', '5', '1', '1']]\n",
      "[['App', 'Category', 'Rating', 'Reviews', 'Size', 'Installs', 'Type', 'Price', 'Content Rating', 'Genres', 'Last Updated', 'Current Ver', 'Android Ver'], ['Photo Editor & Candy Camera & Grid & ScrapBook', 'ART_AND_DESIGN', '4.1', '159', '19M', '10,000+', 'Free', '0', 'Everyone', 'Art & Design', 'January 7, 2018', '1.0.0', '4.0.3 and up'], ['Coloring book moana', 'ART_AND_DESIGN', '3.9', '967', '14M', '500,000+', 'Free', '0', 'Everyone', 'Art & Design;Pretend Play', 'January 15, 2018', '2.0.0', '4.0.3 and up'], ['U Launcher Lite – FREE Live Cool Themes, Hide Apps', 'ART_AND_DESIGN', '4.7', '87510', '8.7M', '5,000,000+', 'Free', '0', 'Everyone', 'Art & Design', 'August 1, 2018', '1.2.4', '4.0.3 and up'], ['Sketch - Draw & Paint', 'ART_AND_DESIGN', '4.5', '215644', '25M', '50,000,000+', 'Free', '0', 'Teen', 'Art & Design', 'June 8, 2018', 'Varies with device', '4.2 and up']]\n"
     ]
    }
   ],
   "source": [
    "from csv import reader\n",
    "app_store = list(reader(open('../datasets/AppleStore.csv')))\n",
    "google_play_store = list(reader(open('../datasets/GooglePlayStore.csv')))\n",
    "\n",
    "print(app_store[:5])\n",
    "print(google_play_store[:5])"
   ]
  },
  {
   "cell_type": "markdown",
   "metadata": {},
   "source": [
    "1. `get_size()`: Return a dictionary that contains the number of rows and columns of a dataset\n",
    "2. `print_slice()`: Perform list slicing to a dataset and return the result"
   ]
  },
  {
   "cell_type": "code",
   "execution_count": 12,
   "metadata": {},
   "outputs": [
    {
     "name": "stdout",
     "output_type": "stream",
     "text": [
      "10841\n",
      "13\n",
      "0 th row: ['id', 'track_name', 'size_bytes', 'currency', 'price', 'rating_count_tot', 'rating_count_ver', 'user_rating', 'user_rating_ver', 'ver', 'cont_rating', 'prime_genre', 'sup_devices.num', 'ipadSc_urls.num', 'lang.num', 'vpp_lic']\n",
      "1 th row: ['284882215', 'Facebook', '389879808', 'USD', '0.0', '2974676', '212', '3.5', '3.5', '95.0', '4+', 'Social Networking', '37', '1', '29', '1']\n",
      "2 th row: ['389801252', 'Instagram', '113954816', 'USD', '0.0', '2161558', '1289', '4.5', '4.0', '10.23', '12+', 'Photo & Video', '37', '0', '29', '1']\n",
      "3 th row: ['529479190', 'Clash of Clans', '116476928', 'USD', '0.0', '2130805', '579', '4.5', '4.5', '9.24.12', '9+', 'Games', '38', '5', '18', '1']\n",
      "4 th row: ['420009108', 'Temple Run', '65921024', 'USD', '0.0', '1724546', '3842', '4.5', '4.0', '1.6.2', '9+', 'Games', '40', '5', '1', '1']\n"
     ]
    }
   ],
   "source": [
    "def get_size(dataset, isHeader = False):\n",
    "    return {\n",
    "        'rows': len(dataset) - 1 * int(isHeader),\n",
    "        'columns': len(dataset[0])\n",
    "    }\n",
    "\n",
    "print(get_size(google_play_store, isHeader = True)['rows'])\n",
    "print(get_size(google_play_store, isHeader = True)['columns'])\n",
    "\n",
    "def print_slice(dataset, start, end):\n",
    "    for i in range(start, end):\n",
    "        print(i, \"th row:\", dataset[i])\n",
    "\n",
    "print_slice(app_store, 0, 5)"
   ]
  },
  {
   "cell_type": "markdown",
   "metadata": {},
   "source": [
    "Clean incorrect entry in `GooglePlayStore.csv`"
   ]
  },
  {
   "cell_type": "code",
   "execution_count": 13,
   "metadata": {},
   "outputs": [
    {
     "name": "stdout",
     "output_type": "stream",
     "text": [
      "['Life Made WI-Fi Touchscreen Photo Frame', '1.9', '19', '3.0M', '1,000+', 'Free', '0', 'Everyone', '', 'February 11, 2018', '1.0.19', '4.0 and up']\n"
     ]
    }
   ],
   "source": [
    "print(google_play_store[10473])\n",
    "\n",
    "del google_play_store[10473]"
   ]
  },
  {
   "cell_type": "markdown",
   "metadata": {},
   "source": [
    "`remove_duplicate()`: Remove duplicate entries from dataset"
   ]
  },
  {
   "cell_type": "code",
   "execution_count": 14,
   "metadata": {},
   "outputs": [
    {
     "name": "stdout",
     "output_type": "stream",
     "text": [
      "10841\n",
      "9659\n"
     ]
    }
   ],
   "source": [
    "def remove_duplicate(dataset, is_header = False):\n",
    "    unique_entries = {}\n",
    "    duplicate_names = []\n",
    "    start = int(is_header)\n",
    "    for row in dataset[start:]:\n",
    "        row_name = row[0]\n",
    "        if row_name not in unique_entries:\n",
    "            unique_entries[row_name] = [row]\n",
    "        else:\n",
    "            unique_entries[row_name].append(row)\n",
    "            if row_name not in duplicate_names:\n",
    "                duplicate_names.append(row_name)\n",
    "\n",
    "    keep_entries = {}\n",
    "\n",
    "    for name in duplicate_names:\n",
    "        duplicate_entries = unique_entries[name]\n",
    "        previous_reviews = int(duplicate_entries[0][3])\n",
    "        for entry in duplicate_entries[1:]:\n",
    "            entry_reviews = int(entry[3])\n",
    "            if entry_reviews > previous_reviews:\n",
    "                previous_reviews = entry_reviews\n",
    "        keep_entries[name] = previous_reviews\n",
    "\n",
    "    clean_dataset = []\n",
    "    clean_dataset_names = []\n",
    "\n",
    "    for row in dataset[start:]:\n",
    "        row_name = row[0]\n",
    "        row_reviews = int(row[3])\n",
    "        if row_name not in duplicate_names:\n",
    "            clean_dataset.append(row)\n",
    "            clean_dataset_names.append(row[0])\n",
    "        else:\n",
    "            if (row_reviews == keep_entries[row_name]) and (row_name not in clean_dataset_names):\n",
    "                clean_dataset.append(row)\n",
    "                clean_dataset_names.append(row[0])\n",
    "    return clean_dataset\n",
    "\n",
    "print(len(google_play_store))\n",
    "\n",
    "google_play_store_clean = remove_duplicate(google_play_store[1:])\n",
    "\n",
    "print(len(google_play_store_clean))"
   ]
  },
  {
   "cell_type": "markdown",
   "metadata": {},
   "source": [
    "1. `is_english()`: Decide whether a string contains non-ASCII character\n",
    "    - Return `True` when string is only comprised of ASCII characters\n",
    "    - Return `False` when string contains more than 1 non-ASCII character\n",
    "2. `is_english_modified()`:\n",
    "    - Return `True` when string contains less than 3 non-ASCII characters\n",
    "    - Return `False` when string contains more than 3 non-ASCII characters"
   ]
  },
  {
   "cell_type": "code",
   "execution_count": 15,
   "metadata": {},
   "outputs": [
    {
     "name": "stdout",
     "output_type": "stream",
     "text": [
      "True\n",
      "False\n",
      "False\n",
      "False\n",
      "True\n",
      "False\n",
      "True\n",
      "True\n"
     ]
    }
   ],
   "source": [
    "def is_english(str):\n",
    "    for ch in str:\n",
    "        if ord(ch) > 127:\n",
    "            return False\n",
    "    return True\n",
    "\n",
    "print(is_english('Instagram'))\n",
    "print(is_english('爱奇艺PPS -《欢乐颂2》电视剧热播'))\n",
    "print(is_english('Docs To Go™ Free Office Suite'))\n",
    "print(is_english('Instachat 😜'))\n",
    "\n",
    "def is_english_modified(str):\n",
    "    non_ascii_count = 0\n",
    "    for ch in str:\n",
    "        if ord(ch) > 127:\n",
    "            non_ascii_count += 1\n",
    "            if non_ascii_count > 3:\n",
    "                return False\n",
    "    return True\n",
    "\n",
    "print(is_english_modified('Instagram'))\n",
    "print(is_english_modified('爱奇艺PPS -《欢乐颂2》电视剧热播'))\n",
    "print(is_english_modified('Docs To Go™ Free Office Suite'))\n",
    "print(is_english_modified('Instachat 😜'))"
   ]
  },
  {
   "cell_type": "markdown",
   "metadata": {},
   "source": [
    "`filter_english()`: Remove entries which has non-English name using `non-english-modified()`"
   ]
  },
  {
   "cell_type": "code",
   "execution_count": 16,
   "metadata": {},
   "outputs": [
    {
     "name": "stdout",
     "output_type": "stream",
     "text": [
      "7198\n",
      "6183\n",
      "10841\n",
      "9614\n"
     ]
    }
   ],
   "source": [
    "def filter_english(dataset, name_index, is_header = False):\n",
    "    english_dataset = []\n",
    "    start = int(is_header)\n",
    "    for row in dataset[start:]:\n",
    "        row_name = row[name_index]\n",
    "        if is_english_modified(row_name):\n",
    "            english_dataset.append(row)\n",
    "    return english_dataset\n",
    "\n",
    "print(len(app_store))\n",
    "print(len(filter_english(app_store[1:], 1)))\n",
    "\n",
    "print(len(google_play_store))\n",
    "print(len(filter_english(google_play_store_clean, 0)))"
   ]
  },
  {
   "cell_type": "markdown",
   "metadata": {},
   "source": [
    "Store free apps and non-free apps of `AppleStore.csv` and `GooglePlayStore.csv` in separate lists"
   ]
  },
  {
   "cell_type": "code",
   "execution_count": 17,
   "metadata": {},
   "outputs": [
    {
     "name": "stdout",
     "output_type": "stream",
     "text": [
      "['Photo Editor & Candy Camera & Grid & ScrapBook', '0']\n",
      "['U Launcher Lite – FREE Live Cool Themes, Hide Apps', '0']\n",
      "['Sketch - Draw & Paint', '0']\n",
      "['Pixel Draw - Number Art Coloring Book', '0']\n",
      "['Paper flowers instructions', '0']\n",
      "['TurboScan: scan documents and receipts in PDF', '$4.99']\n",
      "['Tiny Scanner Pro: PDF Doc Scan', '$4.99']\n",
      "['Puffin Browser Pro', '$3.99']\n",
      "['Truth or Dare Pro', '$1.49']\n",
      "['Private Dating, Hide App- Blue for PrivacyHider', '$2.99']\n",
      "['284882215', '0.0']\n",
      "['389801252', '0.0']\n",
      "['529479190', '0.0']\n",
      "['420009108', '0.0']\n",
      "['284035177', '0.0']\n",
      "['362949845', '1.99']\n",
      "['500116670', '0.99']\n",
      "['479516143', '6.99']\n",
      "['350642635', '0.99']\n",
      "['307727765', '0.99']\n"
     ]
    }
   ],
   "source": [
    "google_play_store_free = []\n",
    "google_play_store_non_free = []\n",
    "\n",
    "for row in google_play_store_clean:\n",
    "    row_price = row[7]\n",
    "    if row_price == '0':\n",
    "        google_play_store_free.append(row)\n",
    "    else:\n",
    "        google_play_store_non_free.append(row)\n",
    "\n",
    "for row in google_play_store_free[:5]:\n",
    "    print([row[0], row[7]])\n",
    "for row in google_play_store_non_free[:5]:\n",
    "    print([row[0], row[7]])\n",
    "\n",
    "app_store_free = []\n",
    "app_store_non_free = []\n",
    "\n",
    "for row in app_store[1:]:\n",
    "    row_price = row[4]\n",
    "    if row_price == '0.0':\n",
    "        app_store_free.append(row)\n",
    "    else:\n",
    "        app_store_non_free.append(row)\n",
    "\n",
    "for row in app_store_free[:5]:\n",
    "    print([row[0], row[4]])\n",
    "for row in app_store_non_free[:5]:\n",
    "    print([row[0], row[4]])"
   ]
  },
  {
   "cell_type": "markdown",
   "metadata": {},
   "source": [
    "`frequency_table()`: Generate a frequency table from a column of a dataset"
   ]
  },
  {
   "cell_type": "code",
   "execution_count": 18,
   "metadata": {},
   "outputs": [],
   "source": [
    "def frequency_table(dataset, column_index, is_header = False):\n",
    "    freq_table = {}\n",
    "    start = int(is_header)\n",
    "    for row in dataset[start:]:\n",
    "        row_column = row[column_index]\n",
    "        if row_column not in freq_table:\n",
    "            freq_table[row_column] = 1\n",
    "        else:\n",
    "            freq_table[row_column] += 1\n",
    "    return freq_table\n",
    "\n",
    "def percentage_table(dataset, column_index, is_header = False):\n",
    "    freq_table = frequency_table(dataset, column_index, is_header = is_header)\n",
    "    percent_table = {}\n",
    "    total_frequency = len(dataset) - int(is_header)\n",
    "    for unique_value in freq_table:\n",
    "        frequency = freq_table[unique_value]\n",
    "        percent = frequency / total_frequency * 100\n",
    "        percent_table[unique_value] = percent\n",
    "    return percent_table\n",
    "\n",
    "def get_table(table, reverse = True):\n",
    "    display_table = []\n",
    "    for key in table:\n",
    "        value = table[key]\n",
    "        table_tuple = (value, key)\n",
    "        display_table.append(table_tuple)\n",
    "    sorted_table = sorted(display_table, reverse = reverse)\n",
    "    return sorted_table"
   ]
  },
  {
   "cell_type": "markdown",
   "metadata": {},
   "source": [
    "Most Common Apps by Genre"
   ]
  },
  {
   "cell_type": "code",
   "execution_count": 19,
   "metadata": {},
   "outputs": [
    {
     "name": "stdout",
     "output_type": "stream",
     "text": [
      "8864\n",
      "3222\n",
      "[(1676, 'FAMILY'), (862, 'GAME'), (750, 'TOOLS'), (407, 'BUSINESS'), (346, 'LIFESTYLE'), (345, 'PRODUCTIVITY'), (328, 'FINANCE'), (313, 'MEDICAL'), (301, 'SPORTS'), (294, 'PERSONALIZATION'), (287, 'COMMUNICATION'), (273, 'HEALTH_AND_FITNESS'), (261, 'PHOTOGRAPHY'), (248, 'NEWS_AND_MAGAZINES'), (236, 'SOCIAL'), (207, 'TRAVEL_AND_LOCAL'), (199, 'SHOPPING'), (190, 'BOOKS_AND_REFERENCE'), (165, 'DATING'), (159, 'VIDEO_PLAYERS'), (124, 'MAPS_AND_NAVIGATION'), (110, 'FOOD_AND_DRINK'), (103, 'EDUCATION'), (85, 'ENTERTAINMENT'), (83, 'LIBRARIES_AND_DEMO'), (82, 'AUTO_AND_VEHICLES'), (73, 'HOUSE_AND_HOME'), (71, 'WEATHER'), (63, 'EVENTS'), (58, 'PARENTING'), (56, 'ART_AND_DESIGN'), (55, 'COMICS'), (53, 'BEAUTY')]\n",
      "[(749, 'Tools'), (538, 'Entertainment'), (474, 'Education'), (407, 'Business'), (345, 'Productivity'), (345, 'Lifestyle'), (328, 'Finance'), (313, 'Medical'), (307, 'Sports'), (294, 'Personalization'), (287, 'Communication'), (275, 'Action'), (273, 'Health & Fitness'), (261, 'Photography'), (248, 'News & Magazines'), (236, 'Social'), (206, 'Travel & Local'), (199, 'Shopping'), (190, 'Books & Reference'), (181, 'Simulation'), (165, 'Dating'), (164, 'Arcade'), (157, 'Video Players & Editors'), (156, 'Casual'), (124, 'Maps & Navigation'), (110, 'Food & Drink'), (100, 'Puzzle'), (88, 'Racing'), (83, 'Role Playing'), (83, 'Libraries & Demo'), (82, 'Auto & Vehicles'), (81, 'Strategy'), (73, 'House & Home'), (71, 'Weather'), (63, 'Events'), (60, 'Adventure'), (54, 'Comics'), (53, 'Beauty'), (52, 'Art & Design'), (44, 'Parenting'), (40, 'Card'), (38, 'Casino'), (37, 'Trivia'), (35, 'Educational;Education'), (34, 'Board'), (33, 'Educational'), (30, 'Education;Education'), (23, 'Word'), (21, 'Casual;Pretend Play'), (18, 'Music'), (15, 'Racing;Action & Adventure'), (15, 'Puzzle;Brain Games'), (15, 'Entertainment;Music & Video'), (12, 'Casual;Brain Games'), (12, 'Casual;Action & Adventure'), (11, 'Arcade;Action & Adventure'), (9, 'Action;Action & Adventure'), (8, 'Educational;Pretend Play'), (7, 'Simulation;Action & Adventure'), (7, 'Parenting;Education'), (7, 'Entertainment;Brain Games'), (7, 'Board;Brain Games'), (6, 'Parenting;Music & Video'), (6, 'Educational;Brain Games'), (6, 'Casual;Creativity'), (6, 'Art & Design;Creativity'), (5, 'Education;Pretend Play'), (4, 'Role Playing;Pretend Play'), (4, 'Education;Creativity'), (3, 'Role Playing;Action & Adventure'), (3, 'Puzzle;Action & Adventure'), (3, 'Entertainment;Creativity'), (3, 'Entertainment;Action & Adventure'), (3, 'Educational;Creativity'), (3, 'Educational;Action & Adventure'), (3, 'Education;Music & Video'), (3, 'Education;Brain Games'), (3, 'Education;Action & Adventure'), (3, 'Adventure;Action & Adventure'), (2, 'Video Players & Editors;Music & Video'), (2, 'Sports;Action & Adventure'), (2, 'Simulation;Pretend Play'), (2, 'Puzzle;Creativity'), (2, 'Music;Music & Video'), (2, 'Entertainment;Pretend Play'), (2, 'Casual;Education'), (2, 'Board;Action & Adventure'), (1, 'Video Players & Editors;Creativity'), (1, 'Trivia;Education'), (1, 'Travel & Local;Action & Adventure'), (1, 'Tools;Education'), (1, 'Strategy;Education'), (1, 'Strategy;Creativity'), (1, 'Strategy;Action & Adventure'), (1, 'Simulation;Education'), (1, 'Role Playing;Brain Games'), (1, 'Racing;Pretend Play'), (1, 'Puzzle;Education'), (1, 'Parenting;Brain Games'), (1, 'Music & Audio;Music & Video'), (1, 'Lifestyle;Pretend Play'), (1, 'Lifestyle;Education'), (1, 'Health & Fitness;Education'), (1, 'Health & Fitness;Action & Adventure'), (1, 'Entertainment;Education'), (1, 'Communication;Creativity'), (1, 'Comics;Creativity'), (1, 'Casual;Music & Video'), (1, 'Card;Action & Adventure'), (1, 'Books & Reference;Education'), (1, 'Art & Design;Pretend Play'), (1, 'Art & Design;Action & Adventure'), (1, 'Arcade;Pretend Play'), (1, 'Adventure;Education')]\n",
      "[(1874, 'Games'), (254, 'Entertainment'), (160, 'Photo & Video'), (118, 'Education'), (105, 'Social Networking'), (84, 'Shopping'), (81, 'Utilities'), (69, 'Sports'), (66, 'Music'), (65, 'Health & Fitness'), (56, 'Productivity'), (51, 'Lifestyle'), (43, 'News'), (40, 'Travel'), (36, 'Finance'), (28, 'Weather'), (26, 'Food & Drink'), (18, 'Reference'), (17, 'Business'), (14, 'Book'), (6, 'Navigation'), (6, 'Medical'), (4, 'Catalogs')]\n"
     ]
    }
   ],
   "source": [
    "google_play_store_target = filter_english(google_play_store_free, 0)\n",
    "app_store_target = filter_english(app_store_free, 1)\n",
    "\n",
    "print(len(google_play_store_target))\n",
    "print(len(app_store_target))\n",
    "\n",
    "google_play_store_category = get_table(frequency_table(google_play_store_target, 1, is_header = True))\n",
    "print(google_play_store_category)\n",
    "\n",
    "google_play_store_genres = get_table(frequency_table(google_play_store_target, 9, is_header = True))\n",
    "print(google_play_store_genres)\n",
    "\n",
    "app_store_prime_genre = get_table(frequency_table(app_store_target, 11, is_header = True))\n",
    "print(app_store_prime_genre)"
   ]
  },
  {
   "cell_type": "markdown",
   "metadata": {},
   "source": [
    "Most Popular Apps by Genre on the App Store"
   ]
  },
  {
   "cell_type": "code",
   "execution_count": 20,
   "metadata": {},
   "outputs": [
    {
     "name": "stdout",
     "output_type": "stream",
     "text": [
      "[(86090.33333333333, 'Navigation'), (74942.11111111111, 'Reference'), (72229.76190476191, 'Social Networking'), (57326.530303030304, 'Music'), (52279.892857142855, 'Weather'), (39758.5, 'Book'), (33333.92307692308, 'Food & Drink'), (31467.944444444445, 'Finance'), (28441.54375, 'Photo & Video'), (28243.8, 'Travel'), (26919.690476190477, 'Shopping'), (23298.015384615384, 'Health & Fitness'), (23008.898550724636, 'Sports'), (22788.6696905016, 'Games'), (21248.023255813954, 'News'), (21028.410714285714, 'Productivity'), (18684.456790123455, 'Utilities'), (16485.764705882353, 'Lifestyle'), (14029.830708661417, 'Entertainment'), (7491.117647058823, 'Business'), (7003.983050847458, 'Education'), (4004.0, 'Catalogs'), (612.0, 'Medical')]\n"
     ]
    }
   ],
   "source": [
    "app_store_average_rating_count = []\n",
    "\n",
    "for cell in app_store_prime_genre:\n",
    "    prime_genre = cell[1]\n",
    "    app_count = cell[0]\n",
    "    total_rating_count = 0\n",
    "    for row in app_store_target:\n",
    "        row_prime_genre = row[11]\n",
    "        row_total_rating_count = int(row[5])\n",
    "        if row_prime_genre == prime_genre:\n",
    "            total_rating_count += row_total_rating_count\n",
    "    app_store_average_rating_count.append((total_rating_count / app_count, prime_genre))\n",
    "\n",
    "print(sorted(app_store_average_rating_count, reverse = True))"
   ]
  },
  {
   "cell_type": "markdown",
   "metadata": {},
   "source": [
    "Most Popular Apps by Genre on Google Play"
   ]
  },
  {
   "cell_type": "code",
   "execution_count": 35,
   "metadata": {},
   "outputs": [
    {
     "name": "stdout",
     "output_type": "stream",
     "text": [
      "[(38456119.167247385, 'COMMUNICATION'), (24727872.452830188, 'VIDEO_PLAYERS'), (23253652.127118643, 'SOCIAL'), (17840110.40229885, 'PHOTOGRAPHY'), (16787331.344927534, 'PRODUCTIVITY'), (15588015.603248259, 'GAME'), (13984077.710144928, 'TRAVEL_AND_LOCAL'), (11640705.88235294, 'ENTERTAINMENT'), (10801391.298666667, 'TOOLS'), (9549178.467741935, 'NEWS_AND_MAGAZINES'), (8767811.894736841, 'BOOKS_AND_REFERENCE'), (7036877.311557789, 'SHOPPING'), (5201482.6122448975, 'PERSONALIZATION'), (5074486.197183099, 'WEATHER'), (4188821.9853479853, 'HEALTH_AND_FITNESS'), (4056941.7741935486, 'MAPS_AND_NAVIGATION'), (3695641.8198090694, 'FAMILY'), (3638640.1428571427, 'SPORTS'), (2021805.357142857, 'ART_AND_DESIGN'), (1924897.7363636363, 'FOOD_AND_DRINK'), (1833495.145631068, 'EDUCATION'), (1712290.1474201474, 'BUSINESS'), (1437816.2687861272, 'LIFESTYLE'), (1387692.475609756, 'FINANCE'), (1331540.5616438356, 'HOUSE_AND_HOME'), (854028.8303030303, 'DATING'), (817657.2727272727, 'COMICS'), (647317.8170731707, 'AUTO_AND_VEHICLES'), (638503.734939759, 'LIBRARIES_AND_DEMO'), (542603.6206896552, 'PARENTING'), (513151.88679245283, 'BEAUTY'), (253542.22222222222, 'EVENTS'), (120550.61980830671, 'MEDICAL')]\n"
     ]
    }
   ],
   "source": [
    "google_play_store_average_installs = []\n",
    "\n",
    "for cell in google_play_store_category:\n",
    "    category = cell[1]\n",
    "    app_count = cell[0]\n",
    "    total_installs = 0\n",
    "    for row in google_play_store_target:\n",
    "        row_category = row[1]\n",
    "        row_installs_temp = row[5]\n",
    "        row_installs = int(row_installs_temp.replace('+', '').replace(',', ''))\n",
    "        if category == row_category:\n",
    "            total_installs += row_installs\n",
    "    google_play_store_average_installs.append((total_installs / app_count,category))\n",
    "\n",
    "print(sorted(google_play_store_average_installs, reverse = True))\n",
    "\n"
   ]
  },
  {
   "cell_type": "markdown",
   "metadata": {},
   "source": [
    "Most Liked Apps by Genre on Google Play"
   ]
  },
  {
   "cell_type": "code",
   "execution_count": 45,
   "metadata": {},
   "outputs": [
    {
     "name": "stdout",
     "output_type": "stream",
     "text": [
      "[(4.298058252427182, 'EDUCATION'), (4.260714285714285, 'ART_AND_DESIGN'), (4.118823529411763, 'ENTERTAINMENT'), (4.030742459396756, 'GAME'), (4.025454545454546, 'COMICS'), (3.957088122605364, 'PHOTOGRAPHY'), (3.871830985915492, 'WEATHER'), (3.781407035175881, 'SHOPPING'), (3.6934964200477376, 'FAMILY'), (3.6874213836477985, 'VIDEO_PLAYERS'), (3.674390243902439, 'AUTO_AND_VEHICLES'), (3.648387096774193, 'MAPS_AND_NAVIGATION'), (3.638421052631579, 'BOOKS_AND_REFERENCE'), (3.6375000000000006, 'FINANCE'), (3.6220338983050833, 'SOCIAL'), (3.615384615384615, 'HEALTH_AND_FITNESS'), (3.5913793103448284, 'PARENTING'), (3.5284000000000004, 'TOOLS'), (3.517874396135265, 'TRAVEL_AND_LOCAL'), (3.4854545454545454, 'FOOD_AND_DRINK'), (3.4602739726027405, 'HOUSE_AND_HOME'), (3.4182608695652217, 'PRODUCTIVITY'), (3.4078231292517014, 'PERSONALIZATION'), (3.3905660377358484, 'BEAUTY'), (3.364808362369337, 'COMMUNICATION'), (3.3308970099667774, 'SPORTS'), (3.291618497109824, 'LIFESTYLE'), (3.277016129032258, 'NEWS_AND_MAGAZINES'), (3.2216867469879515, 'LIBRARIES_AND_DEMO'), (3.168253968253969, 'EVENTS'), (3.161818181818181, 'DATING'), (3.021405750798721, 'MEDICAL'), (2.5511056511056505, 'BUSINESS')]\n"
     ]
    }
   ],
   "source": [
    "google_play_store_average_rating = []\n",
    "\n",
    "for cell in google_play_store_category:\n",
    "    category = cell[1]\n",
    "    app_count = cell[0]\n",
    "    total_rating = 0\n",
    "    for row in google_play_store_target:\n",
    "        row_rating_temp = row[2]\n",
    "        if row_rating_temp == 'NaN':\n",
    "            row_rating = 0\n",
    "        else:\n",
    "            row_rating = float(row_rating_temp)\n",
    "        row_category = row[1]\n",
    "        if category == row_category:\n",
    "            total_rating += row_rating\n",
    "    google_play_store_average_rating.append((total_rating / app_count, category))\n",
    "\n",
    "print(sorted(google_play_store_average_rating, reverse = True))\n",
    "    "
   ]
  }
 ],
 "metadata": {
  "kernelspec": {
   "display_name": "Python 3",
   "language": "python",
   "name": "python3"
  },
  "language_info": {
   "codemirror_mode": {
    "name": "ipython",
    "version": 3
   },
   "file_extension": ".py",
   "mimetype": "text/x-python",
   "name": "python",
   "nbconvert_exporter": "python",
   "pygments_lexer": "ipython3",
   "version": "3.12.3"
  }
 },
 "nbformat": 4,
 "nbformat_minor": 2
}
