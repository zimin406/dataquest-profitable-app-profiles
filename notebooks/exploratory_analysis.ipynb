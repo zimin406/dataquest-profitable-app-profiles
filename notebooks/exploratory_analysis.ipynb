{
 "cells": [
  {
   "cell_type": "markdown",
   "metadata": {},
   "source": [
    "# Guided Project: Profitable App Profiles for the App Store and Google Play Markets"
   ]
  },
  {
   "cell_type": "code",
   "execution_count": 2,
   "metadata": {},
   "outputs": [
    {
     "name": "stdout",
     "output_type": "stream",
     "text": [
      "[['id', 'track_name', 'size_bytes', 'currency', 'price', 'rating_count_tot', 'rating_count_ver', 'user_rating', 'user_rating_ver', 'ver', 'cont_rating', 'prime_genre', 'sup_devices.num', 'ipadSc_urls.num', 'lang.num', 'vpp_lic'], ['284882215', 'Facebook', '389879808', 'USD', '0.0', '2974676', '212', '3.5', '3.5', '95.0', '4+', 'Social Networking', '37', '1', '29', '1'], ['389801252', 'Instagram', '113954816', 'USD', '0.0', '2161558', '1289', '4.5', '4.0', '10.23', '12+', 'Photo & Video', '37', '0', '29', '1'], ['529479190', 'Clash of Clans', '116476928', 'USD', '0.0', '2130805', '579', '4.5', '4.5', '9.24.12', '9+', 'Games', '38', '5', '18', '1'], ['420009108', 'Temple Run', '65921024', 'USD', '0.0', '1724546', '3842', '4.5', '4.0', '1.6.2', '9+', 'Games', '40', '5', '1', '1']]\n",
      "[['App', 'Category', 'Rating', 'Reviews', 'Size', 'Installs', 'Type', 'Price', 'Content Rating', 'Genres', 'Last Updated', 'Current Ver', 'Android Ver'], ['Photo Editor & Candy Camera & Grid & ScrapBook', 'ART_AND_DESIGN', '4.1', '159', '19M', '10,000+', 'Free', '0', 'Everyone', 'Art & Design', 'January 7, 2018', '1.0.0', '4.0.3 and up'], ['Coloring book moana', 'ART_AND_DESIGN', '3.9', '967', '14M', '500,000+', 'Free', '0', 'Everyone', 'Art & Design;Pretend Play', 'January 15, 2018', '2.0.0', '4.0.3 and up'], ['U Launcher Lite – FREE Live Cool Themes, Hide Apps', 'ART_AND_DESIGN', '4.7', '87510', '8.7M', '5,000,000+', 'Free', '0', 'Everyone', 'Art & Design', 'August 1, 2018', '1.2.4', '4.0.3 and up'], ['Sketch - Draw & Paint', 'ART_AND_DESIGN', '4.5', '215644', '25M', '50,000,000+', 'Free', '0', 'Teen', 'Art & Design', 'June 8, 2018', 'Varies with device', '4.2 and up']]\n"
     ]
    }
   ],
   "source": [
    "from csv import reader\n",
    "app_store = list(reader(open('../datasets/AppleStore.csv')))\n",
    "google_play_store = list(reader(open('../datasets/googleplaystore.csv')))\n",
    "\n",
    "print(app_store[:5])\n",
    "print(google_play_store[:5])"
   ]
  },
  {
   "cell_type": "code",
   "execution_count": 41,
   "metadata": {},
   "outputs": [
    {
     "name": "stdout",
     "output_type": "stream",
     "text": [
      "10841\n",
      "13\n",
      "0 th row: ['id', 'track_name', 'size_bytes', 'currency', 'price', 'rating_count_tot', 'rating_count_ver', 'user_rating', 'user_rating_ver', 'ver', 'cont_rating', 'prime_genre', 'sup_devices.num', 'ipadSc_urls.num', 'lang.num', 'vpp_lic']\n",
      "1 th row: ['284882215', 'Facebook', '389879808', 'USD', '0.0', '2974676', '212', '3.5', '3.5', '95.0', '4+', 'Social Networking', '37', '1', '29', '1']\n",
      "2 th row: ['389801252', 'Instagram', '113954816', 'USD', '0.0', '2161558', '1289', '4.5', '4.0', '10.23', '12+', 'Photo & Video', '37', '0', '29', '1']\n",
      "3 th row: ['529479190', 'Clash of Clans', '116476928', 'USD', '0.0', '2130805', '579', '4.5', '4.5', '9.24.12', '9+', 'Games', '38', '5', '18', '1']\n",
      "4 th row: ['420009108', 'Temple Run', '65921024', 'USD', '0.0', '1724546', '3842', '4.5', '4.0', '1.6.2', '9+', 'Games', '40', '5', '1', '1']\n"
     ]
    }
   ],
   "source": [
    "def get_size(dataset, isHeader = False):\n",
    "    return {\n",
    "        'rows': len(dataset) - 1 * int(isHeader),\n",
    "        'columns': len(dataset[0])\n",
    "    }\n",
    "\n",
    "print(get_size(google_play_store, isHeader = True)['rows'])\n",
    "print(get_size(google_play_store, isHeader = True)['columns'])\n",
    "\n",
    "def print_slice(dataset, start, end):\n",
    "    for i in range(start, end):\n",
    "        print(i, \"th row:\", dataset[i])\n",
    "\n",
    "print_slice(app_store, 0, 5)"
   ]
  },
  {
   "cell_type": "code",
   "execution_count": 7,
   "metadata": {},
   "outputs": [
    {
     "name": "stdout",
     "output_type": "stream",
     "text": [
      "['Life Made WI-Fi Touchscreen Photo Frame', '1.9', '19', '3.0M', '1,000+', 'Free', '0', 'Everyone', '', 'February 11, 2018', '1.0.19', '4.0 and up']\n"
     ]
    }
   ],
   "source": [
    "print(google_play_store[10473])\n",
    "\n",
    "del google_play_store[10473]"
   ]
  },
  {
   "cell_type": "code",
   "execution_count": 132,
   "metadata": {},
   "outputs": [
    {
     "name": "stdout",
     "output_type": "stream",
     "text": [
      "10840\n",
      "9659\n"
     ]
    }
   ],
   "source": [
    "def remove_duplicate(dataset, is_header = False):\n",
    "    unique_entries = {}\n",
    "    duplicate_names = []\n",
    "    start = 1 * int(is_header)\n",
    "    for row in dataset[start:]:\n",
    "        row_name = row[0]\n",
    "        if row_name not in unique_entries:\n",
    "            unique_entries[row_name] = [row]\n",
    "        else:\n",
    "            unique_entries[row_name].append(row)\n",
    "            if row_name not in duplicate_names:\n",
    "                duplicate_names.append(row_name)\n",
    "\n",
    "    keep_entries = {}\n",
    "\n",
    "    for name in duplicate_names:\n",
    "        duplicate_entries = unique_entries[name]\n",
    "        previous_reviews = int(duplicate_entries[0][3])\n",
    "        for entry in duplicate_entries[1:]:\n",
    "            entry_reviews = int(entry[3])\n",
    "            if entry_reviews > previous_reviews:\n",
    "                previous_reviews = entry_reviews\n",
    "        keep_entries[name] = previous_reviews\n",
    "\n",
    "    clean_dataset = []\n",
    "    clean_dataset_names = []\n",
    "\n",
    "    for row in dataset[start:]:\n",
    "        row_name = row[0]\n",
    "        row_reviews = int(row[3])\n",
    "        if row_name not in duplicate_names:\n",
    "            clean_dataset.append(row)\n",
    "            clean_dataset_names.append(row[0])\n",
    "        else:\n",
    "            if (row_reviews == keep_entries[row_name]) and (row_name not in clean_dataset_names):\n",
    "                clean_dataset.append(row)\n",
    "                clean_dataset_names.append(row[0])\n",
    "    return clean_dataset\n",
    "\n",
    "print(len(google_play_store[1:]))\n",
    "print(len(remove_duplicate(google_play_store[1:], is_header = False)))"
   ]
  },
  {
   "cell_type": "code",
   "execution_count": 4,
   "metadata": {},
   "outputs": [
    {
     "name": "stdout",
     "output_type": "stream",
     "text": [
      "True\n",
      "False\n",
      "False\n",
      "False\n",
      "True\n",
      "False\n",
      "True\n",
      "True\n"
     ]
    }
   ],
   "source": [
    "def is_english(str):\n",
    "    for ch in str:\n",
    "        if ord(ch) > 127:\n",
    "            return False\n",
    "    return True\n",
    "\n",
    "print(is_english('Instagram'))\n",
    "print(is_english('爱奇艺PPS -《欢乐颂2》电视剧热播'))\n",
    "print(is_english('Docs To Go™ Free Office Suite'))\n",
    "print(is_english('Instachat 😜'))\n",
    "\n",
    "def is_english_modified(str):\n",
    "    non_ascii_count = 0\n",
    "    for ch in str:\n",
    "        if ord(ch) > 127:\n",
    "            non_ascii_count += 1\n",
    "            if non_ascii_count > 3:\n",
    "                return False\n",
    "    return True\n",
    "\n",
    "print(is_english_modified('Instagram'))\n",
    "print(is_english_modified('爱奇艺PPS -《欢乐颂2》电视剧热播'))\n",
    "print(is_english_modified('Docs To Go™ Free Office Suite'))\n",
    "print(is_english_modified('Instachat 😜'))"
   ]
  },
  {
   "cell_type": "code",
   "execution_count": 8,
   "metadata": {},
   "outputs": [
    {
     "name": "stdout",
     "output_type": "stream",
     "text": [
      "7198\n",
      "7198\n",
      "10841\n",
      "10796\n"
     ]
    }
   ],
   "source": [
    "def filter_english(dataset, is_header = False):\n",
    "    english_dataset = []\n",
    "    start = 1 * int(is_header)\n",
    "    for row in dataset:\n",
    "        row_name = row[0]\n",
    "        if is_english_modified(row_name):\n",
    "            english_dataset.append(row)\n",
    "    return english_dataset\n",
    "\n",
    "print(len(app_store))\n",
    "print(len(filter_english(app_store)))\n",
    "\n",
    "print(len(google_play_store))\n",
    "print(len(filter_english(google_play_store)))"
   ]
  }
 ],
 "metadata": {
  "kernelspec": {
   "display_name": "Python 3",
   "language": "python",
   "name": "python3"
  },
  "language_info": {
   "codemirror_mode": {
    "name": "ipython",
    "version": 3
   },
   "file_extension": ".py",
   "mimetype": "text/x-python",
   "name": "python",
   "nbconvert_exporter": "python",
   "pygments_lexer": "ipython3",
   "version": "3.12.3"
  }
 },
 "nbformat": 4,
 "nbformat_minor": 2
}
