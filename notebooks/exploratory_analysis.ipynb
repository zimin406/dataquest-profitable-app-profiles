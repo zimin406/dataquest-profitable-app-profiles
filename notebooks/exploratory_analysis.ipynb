{
 "cells": [
  {
   "cell_type": "markdown",
   "metadata": {},
   "source": [
    "# Guided Project: Profitable App Profiles for the App Store and Google Play Markets"
   ]
  },
  {
   "cell_type": "markdown",
   "metadata": {},
   "source": [
    "1. Open `AppleStore.csv` and `GooglePlayStore.csv`\n",
    "2. Convert dataset files to list"
   ]
  },
  {
   "cell_type": "code",
   "execution_count": 2,
   "metadata": {},
   "outputs": [
    {
     "name": "stdout",
     "output_type": "stream",
     "text": [
      "[['id', 'track_name', 'size_bytes', 'currency', 'price', 'rating_count_tot', 'rating_count_ver', 'user_rating', 'user_rating_ver', 'ver', 'cont_rating', 'prime_genre', 'sup_devices.num', 'ipadSc_urls.num', 'lang.num', 'vpp_lic'], ['284882215', 'Facebook', '389879808', 'USD', '0.0', '2974676', '212', '3.5', '3.5', '95.0', '4+', 'Social Networking', '37', '1', '29', '1'], ['389801252', 'Instagram', '113954816', 'USD', '0.0', '2161558', '1289', '4.5', '4.0', '10.23', '12+', 'Photo & Video', '37', '0', '29', '1'], ['529479190', 'Clash of Clans', '116476928', 'USD', '0.0', '2130805', '579', '4.5', '4.5', '9.24.12', '9+', 'Games', '38', '5', '18', '1'], ['420009108', 'Temple Run', '65921024', 'USD', '0.0', '1724546', '3842', '4.5', '4.0', '1.6.2', '9+', 'Games', '40', '5', '1', '1']]\n",
      "[['App', 'Category', 'Rating', 'Reviews', 'Size', 'Installs', 'Type', 'Price', 'Content Rating', 'Genres', 'Last Updated', 'Current Ver', 'Android Ver'], ['Photo Editor & Candy Camera & Grid & ScrapBook', 'ART_AND_DESIGN', '4.1', '159', '19M', '10,000+', 'Free', '0', 'Everyone', 'Art & Design', 'January 7, 2018', '1.0.0', '4.0.3 and up'], ['Coloring book moana', 'ART_AND_DESIGN', '3.9', '967', '14M', '500,000+', 'Free', '0', 'Everyone', 'Art & Design;Pretend Play', 'January 15, 2018', '2.0.0', '4.0.3 and up'], ['U Launcher Lite – FREE Live Cool Themes, Hide Apps', 'ART_AND_DESIGN', '4.7', '87510', '8.7M', '5,000,000+', 'Free', '0', 'Everyone', 'Art & Design', 'August 1, 2018', '1.2.4', '4.0.3 and up'], ['Sketch - Draw & Paint', 'ART_AND_DESIGN', '4.5', '215644', '25M', '50,000,000+', 'Free', '0', 'Teen', 'Art & Design', 'June 8, 2018', 'Varies with device', '4.2 and up']]\n"
     ]
    }
   ],
   "source": [
    "from csv import reader\n",
    "app_store = list(reader(open('../datasets/AppleStore.csv')))\n",
    "google_play_store = list(reader(open('../datasets/GooglePlayStore.csv')))\n",
    "\n",
    "print(app_store[:5])\n",
    "print(google_play_store[:5])"
   ]
  },
  {
   "cell_type": "markdown",
   "metadata": {},
   "source": [
    "1. `get_size()`: Return a dictionary that contains the number of rows and columns of a dataset\n",
    "2. `print_slice()`: Perform list slicing to a dataset and return the result"
   ]
  },
  {
   "cell_type": "code",
   "execution_count": 4,
   "metadata": {},
   "outputs": [
    {
     "name": "stdout",
     "output_type": "stream",
     "text": [
      "10841\n",
      "13\n",
      "0 th row: ['id', 'track_name', 'size_bytes', 'currency', 'price', 'rating_count_tot', 'rating_count_ver', 'user_rating', 'user_rating_ver', 'ver', 'cont_rating', 'prime_genre', 'sup_devices.num', 'ipadSc_urls.num', 'lang.num', 'vpp_lic']\n",
      "1 th row: ['284882215', 'Facebook', '389879808', 'USD', '0.0', '2974676', '212', '3.5', '3.5', '95.0', '4+', 'Social Networking', '37', '1', '29', '1']\n",
      "2 th row: ['389801252', 'Instagram', '113954816', 'USD', '0.0', '2161558', '1289', '4.5', '4.0', '10.23', '12+', 'Photo & Video', '37', '0', '29', '1']\n",
      "3 th row: ['529479190', 'Clash of Clans', '116476928', 'USD', '0.0', '2130805', '579', '4.5', '4.5', '9.24.12', '9+', 'Games', '38', '5', '18', '1']\n",
      "4 th row: ['420009108', 'Temple Run', '65921024', 'USD', '0.0', '1724546', '3842', '4.5', '4.0', '1.6.2', '9+', 'Games', '40', '5', '1', '1']\n"
     ]
    }
   ],
   "source": [
    "def get_size(dataset, isHeader = False):\n",
    "    return {\n",
    "        'rows': len(dataset) - 1 * int(isHeader),\n",
    "        'columns': len(dataset[0])\n",
    "    }\n",
    "\n",
    "print(get_size(google_play_store, isHeader = True)['rows'])\n",
    "print(get_size(google_play_store, isHeader = True)['columns'])\n",
    "\n",
    "def print_slice(dataset, start, end):\n",
    "    for i in range(start, end):\n",
    "        print(i, \"th row:\", dataset[i])\n",
    "\n",
    "print_slice(app_store, 0, 5)"
   ]
  },
  {
   "cell_type": "markdown",
   "metadata": {},
   "source": [
    "Clean incorrect entry in `GooglePlayStore.csv`"
   ]
  },
  {
   "cell_type": "code",
   "execution_count": 5,
   "metadata": {},
   "outputs": [
    {
     "name": "stdout",
     "output_type": "stream",
     "text": [
      "['Life Made WI-Fi Touchscreen Photo Frame', '1.9', '19', '3.0M', '1,000+', 'Free', '0', 'Everyone', '', 'February 11, 2018', '1.0.19', '4.0 and up']\n"
     ]
    }
   ],
   "source": [
    "print(google_play_store[10473])\n",
    "\n",
    "del google_play_store[10473]"
   ]
  },
  {
   "cell_type": "markdown",
   "metadata": {},
   "source": [
    "`remove_duplicate()`: Remove duplicate entries from dataset"
   ]
  },
  {
   "cell_type": "code",
   "execution_count": 6,
   "metadata": {},
   "outputs": [
    {
     "name": "stdout",
     "output_type": "stream",
     "text": [
      "10840\n",
      "9659\n"
     ]
    }
   ],
   "source": [
    "def remove_duplicate(dataset, is_header = False):\n",
    "    unique_entries = {}\n",
    "    duplicate_names = []\n",
    "    start = int(is_header)\n",
    "    for row in dataset[start:]:\n",
    "        row_name = row[0]\n",
    "        if row_name not in unique_entries:\n",
    "            unique_entries[row_name] = [row]\n",
    "        else:\n",
    "            unique_entries[row_name].append(row)\n",
    "            if row_name not in duplicate_names:\n",
    "                duplicate_names.append(row_name)\n",
    "\n",
    "    keep_entries = {}\n",
    "\n",
    "    for name in duplicate_names:\n",
    "        duplicate_entries = unique_entries[name]\n",
    "        previous_reviews = int(duplicate_entries[0][3])\n",
    "        for entry in duplicate_entries[1:]:\n",
    "            entry_reviews = int(entry[3])\n",
    "            if entry_reviews > previous_reviews:\n",
    "                previous_reviews = entry_reviews\n",
    "        keep_entries[name] = previous_reviews\n",
    "\n",
    "    clean_dataset = []\n",
    "    clean_dataset_names = []\n",
    "\n",
    "    for row in dataset[start:]:\n",
    "        row_name = row[0]\n",
    "        row_reviews = int(row[3])\n",
    "        if row_name not in duplicate_names:\n",
    "            clean_dataset.append(row)\n",
    "            clean_dataset_names.append(row[0])\n",
    "        else:\n",
    "            if (row_reviews == keep_entries[row_name]) and (row_name not in clean_dataset_names):\n",
    "                clean_dataset.append(row)\n",
    "                clean_dataset_names.append(row[0])\n",
    "    return clean_dataset\n",
    "\n",
    "print(len(google_play_store[1:]))\n",
    "print(len(remove_duplicate(google_play_store[1:], is_header = False)))"
   ]
  },
  {
   "cell_type": "markdown",
   "metadata": {},
   "source": [
    "1. `is_english()`: Decide whether a string contains non-ASCII character\n",
    "    - Return `True` when string is only comprised of ASCII characters\n",
    "    - Return `False` when string contains more than 1 non-ASCII character\n",
    "2. `is_english_modified()`:\n",
    "    - Return `True` when string contains less than 3 non-ASCII characters\n",
    "    - Return `False` when string contains more than 3 non-ASCII characters"
   ]
  },
  {
   "cell_type": "code",
   "execution_count": 7,
   "metadata": {},
   "outputs": [
    {
     "name": "stdout",
     "output_type": "stream",
     "text": [
      "True\n",
      "False\n",
      "False\n",
      "False\n",
      "True\n",
      "False\n",
      "True\n",
      "True\n"
     ]
    }
   ],
   "source": [
    "def is_english(str):\n",
    "    for ch in str:\n",
    "        if ord(ch) > 127:\n",
    "            return False\n",
    "    return True\n",
    "\n",
    "print(is_english('Instagram'))\n",
    "print(is_english('爱奇艺PPS -《欢乐颂2》电视剧热播'))\n",
    "print(is_english('Docs To Go™ Free Office Suite'))\n",
    "print(is_english('Instachat 😜'))\n",
    "\n",
    "def is_english_modified(str):\n",
    "    non_ascii_count = 0\n",
    "    for ch in str:\n",
    "        if ord(ch) > 127:\n",
    "            non_ascii_count += 1\n",
    "            if non_ascii_count > 3:\n",
    "                return False\n",
    "    return True\n",
    "\n",
    "print(is_english_modified('Instagram'))\n",
    "print(is_english_modified('爱奇艺PPS -《欢乐颂2》电视剧热播'))\n",
    "print(is_english_modified('Docs To Go™ Free Office Suite'))\n",
    "print(is_english_modified('Instachat 😜'))"
   ]
  },
  {
   "cell_type": "markdown",
   "metadata": {},
   "source": [
    "`filter_english()`: Remove entries which has non-English name using `non-english-modified()`"
   ]
  },
  {
   "cell_type": "code",
   "execution_count": 8,
   "metadata": {},
   "outputs": [
    {
     "name": "stdout",
     "output_type": "stream",
     "text": [
      "7198\n",
      "7198\n",
      "10841\n",
      "10796\n"
     ]
    }
   ],
   "source": [
    "def filter_english(dataset, is_header = False):\n",
    "    english_dataset = []\n",
    "    start = int(is_header)\n",
    "    for row in dataset:\n",
    "        row_name = row[0]\n",
    "        if is_english_modified(row_name):\n",
    "            english_dataset.append(row)\n",
    "    return english_dataset\n",
    "\n",
    "print(len(app_store))\n",
    "print(len(filter_english(app_store)))\n",
    "\n",
    "print(len(google_play_store))\n",
    "print(len(filter_english(google_play_store)))"
   ]
  },
  {
   "cell_type": "markdown",
   "metadata": {},
   "source": [
    "Store free apps and non-free apps of `AppleStore.csv` and `GooglePlayStore.csv` in separate lists"
   ]
  },
  {
   "cell_type": "code",
   "execution_count": 13,
   "metadata": {},
   "outputs": [
    {
     "name": "stdout",
     "output_type": "stream",
     "text": [
      "['Photo Editor & Candy Camera & Grid & ScrapBook', '0']\n",
      "['Coloring book moana', '0']\n",
      "['U Launcher Lite – FREE Live Cool Themes, Hide Apps', '0']\n",
      "['Sketch - Draw & Paint', '0']\n",
      "['Pixel Draw - Number Art Coloring Book', '0']\n",
      "['TurboScan: scan documents and receipts in PDF', '$4.99']\n",
      "['Tiny Scanner Pro: PDF Doc Scan', '$4.99']\n",
      "['TurboScan: scan documents and receipts in PDF', '$4.99']\n",
      "['Tiny Scanner Pro: PDF Doc Scan', '$4.99']\n",
      "['Puffin Browser Pro', '$3.99']\n",
      "['284882215', '0.0']\n",
      "['389801252', '0.0']\n",
      "['529479190', '0.0']\n",
      "['420009108', '0.0']\n",
      "['284035177', '0.0']\n",
      "['362949845', '1.99']\n",
      "['500116670', '0.99']\n",
      "['479516143', '6.99']\n",
      "['350642635', '0.99']\n",
      "['307727765', '0.99']\n"
     ]
    }
   ],
   "source": [
    "google_play_store_free = []\n",
    "google_play_store_non_free = []\n",
    "\n",
    "for row in google_play_store[1:]:\n",
    "    row_price = row[7]\n",
    "    if row_price == '0':\n",
    "        google_play_store_free.append(row)\n",
    "    else:\n",
    "        google_play_store_non_free.append(row)\n",
    "\n",
    "for row in google_play_store_free[:5]:\n",
    "    print([row[0], row[7]])\n",
    "for row in google_play_store_non_free[:5]:\n",
    "    print([row[0], row[7]])\n",
    "\n",
    "app_store_free = []\n",
    "app_store_non_free = []\n",
    "\n",
    "for row in app_store[1:]:\n",
    "    row_price = row[4]\n",
    "    if row_price == '0.0':\n",
    "        app_store_free.append(row)\n",
    "    else:\n",
    "        app_store_non_free.append(row)\n",
    "\n",
    "for row in app_store_free[:5]:\n",
    "    print([row[0], row[4]])\n",
    "for row in app_store_non_free[:5]:\n",
    "    print([row[0], row[4]])"
   ]
  },
  {
   "cell_type": "markdown",
   "metadata": {},
   "source": [
    "`frequency_table()`: Generate a frequency table from a column of a dataset"
   ]
  },
  {
   "cell_type": "code",
   "execution_count": 27,
   "metadata": {},
   "outputs": [
    {
     "name": "stdout",
     "output_type": "stream",
     "text": [
      "{'ART_AND_DESIGN': 65, 'AUTO_AND_VEHICLES': 85, 'BEAUTY': 53, 'BOOKS_AND_REFERENCE': 231, 'BUSINESS': 460, 'COMICS': 60, 'COMMUNICATION': 387, 'DATING': 234, 'EDUCATION': 156, 'ENTERTAINMENT': 149, 'EVENTS': 64, 'FINANCE': 366, 'FOOD_AND_DRINK': 127, 'HEALTH_AND_FITNESS': 341, 'HOUSE_AND_HOME': 88, 'LIBRARIES_AND_DEMO': 85, 'LIFESTYLE': 382, 'GAME': 1144, 'FAMILY': 1972, 'MEDICAL': 463, 'SOCIAL': 295, 'SHOPPING': 260, 'PHOTOGRAPHY': 335, 'SPORTS': 384, 'TRAVEL_AND_LOCAL': 258, 'TOOLS': 843, 'PERSONALIZATION': 392, 'PRODUCTIVITY': 424, 'PARENTING': 60, 'WEATHER': 82, 'VIDEO_PLAYERS': 175, 'NEWS_AND_MAGAZINES': 283, 'MAPS_AND_NAVIGATION': 137}\n",
      "[(53, 'BEAUTY'), (60, 'COMICS'), (60, 'PARENTING'), (64, 'EVENTS'), (65, 'ART_AND_DESIGN'), (82, 'WEATHER'), (85, 'AUTO_AND_VEHICLES'), (85, 'LIBRARIES_AND_DEMO'), (88, 'HOUSE_AND_HOME'), (127, 'FOOD_AND_DRINK'), (137, 'MAPS_AND_NAVIGATION'), (149, 'ENTERTAINMENT'), (156, 'EDUCATION'), (175, 'VIDEO_PLAYERS'), (231, 'BOOKS_AND_REFERENCE'), (234, 'DATING'), (258, 'TRAVEL_AND_LOCAL'), (260, 'SHOPPING'), (283, 'NEWS_AND_MAGAZINES'), (295, 'SOCIAL'), (335, 'PHOTOGRAPHY'), (341, 'HEALTH_AND_FITNESS'), (366, 'FINANCE'), (382, 'LIFESTYLE'), (384, 'SPORTS'), (387, 'COMMUNICATION'), (392, 'PERSONALIZATION'), (424, 'PRODUCTIVITY'), (460, 'BUSINESS'), (463, 'MEDICAL'), (843, 'TOOLS'), (1144, 'GAME'), (1972, 'FAMILY')]\n",
      "[(1972, 'FAMILY'), (1144, 'GAME'), (843, 'TOOLS'), (463, 'MEDICAL'), (460, 'BUSINESS'), (424, 'PRODUCTIVITY'), (392, 'PERSONALIZATION'), (387, 'COMMUNICATION'), (384, 'SPORTS'), (382, 'LIFESTYLE'), (366, 'FINANCE'), (341, 'HEALTH_AND_FITNESS'), (335, 'PHOTOGRAPHY'), (295, 'SOCIAL'), (283, 'NEWS_AND_MAGAZINES'), (260, 'SHOPPING'), (258, 'TRAVEL_AND_LOCAL'), (234, 'DATING'), (231, 'BOOKS_AND_REFERENCE'), (175, 'VIDEO_PLAYERS'), (156, 'EDUCATION'), (149, 'ENTERTAINMENT'), (137, 'MAPS_AND_NAVIGATION'), (127, 'FOOD_AND_DRINK'), (88, 'HOUSE_AND_HOME'), (85, 'LIBRARIES_AND_DEMO'), (85, 'AUTO_AND_VEHICLES'), (82, 'WEATHER'), (65, 'ART_AND_DESIGN'), (64, 'EVENTS'), (60, 'PARENTING'), (60, 'COMICS'), (53, 'BEAUTY')]\n",
      "{'Art & Design': 58, 'Art & Design;Pretend Play': 2, 'Art & Design;Creativity': 7, 'Art & Design;Action & Adventure': 2, 'Auto & Vehicles': 85, 'Beauty': 53, 'Books & Reference': 231, 'Business': 460, 'Comics': 59, 'Comics;Creativity': 1, 'Communication': 387, 'Dating': 234, 'Education;Education': 50, 'Education': 549, 'Education;Creativity': 7, 'Education;Music & Video': 5, 'Education;Action & Adventure': 6, 'Education;Pretend Play': 23, 'Education;Brain Games': 5, 'Entertainment': 623, 'Entertainment;Music & Video': 27, 'Entertainment;Brain Games': 8, 'Entertainment;Creativity': 3, 'Events': 64, 'Finance': 366, 'Food & Drink': 127, 'Health & Fitness': 341, 'House & Home': 88, 'Libraries & Demo': 85, 'Lifestyle': 381, 'Lifestyle;Pretend Play': 1, 'Adventure;Action & Adventure': 13, 'Arcade': 220, 'Casual': 193, 'Card': 48, 'Casual;Pretend Play': 31, 'Action': 365, 'Strategy': 107, 'Puzzle': 140, 'Sports': 398, 'Music': 22, 'Word': 29, 'Racing': 98, 'Casual;Creativity': 7, 'Casual;Action & Adventure': 21, 'Simulation': 200, 'Adventure': 75, 'Board': 44, 'Trivia': 38, 'Role Playing': 109, 'Simulation;Education': 3, 'Action;Action & Adventure': 17, 'Casual;Brain Games': 13, 'Simulation;Action & Adventure': 11, 'Educational;Creativity': 5, 'Puzzle;Brain Games': 19, 'Educational;Education': 41, 'Card;Brain Games': 1, 'Educational;Brain Games': 6, 'Educational;Pretend Play': 19, 'Entertainment;Education': 1, 'Casual;Education': 3, 'Music;Music & Video': 3, 'Racing;Action & Adventure': 20, 'Arcade;Pretend Play': 1, 'Role Playing;Action & Adventure': 7, 'Simulation;Pretend Play': 4, 'Puzzle;Creativity': 2, 'Sports;Action & Adventure': 4, 'Educational;Action & Adventure': 4, 'Arcade;Action & Adventure': 16, 'Entertainment;Action & Adventure': 3, 'Puzzle;Action & Adventure': 5, 'Strategy;Action & Adventure': 2, 'Music & Audio;Music & Video': 1, 'Health & Fitness;Education': 1, 'Adventure;Education': 2, 'Board;Brain Games': 15, 'Board;Action & Adventure': 3, 'Board;Pretend Play': 1, 'Casual;Music & Video': 2, 'Role Playing;Pretend Play': 5, 'Entertainment;Pretend Play': 2, 'Video Players & Editors;Creativity': 2, 'Card;Action & Adventure': 2, 'Medical': 463, 'Social': 295, 'Shopping': 260, 'Photography': 335, 'Travel & Local': 257, 'Travel & Local;Action & Adventure': 1, 'Tools': 842, 'Tools;Education': 1, 'Personalization': 392, 'Productivity': 424, 'Parenting': 46, 'Parenting;Music & Video': 6, 'Parenting;Education': 7, 'Parenting;Brain Games': 1, 'Weather': 82, 'Video Players & Editors': 173, 'Video Players & Editors;Music & Video': 3, 'News & Magazines': 283, 'Maps & Navigation': 137, 'Health & Fitness;Action & Adventure': 1, 'Educational': 37, 'Casino': 39, 'Adventure;Brain Games': 1, 'Trivia;Education': 1, 'Lifestyle;Education': 1, 'Books & Reference;Creativity': 1, 'Books & Reference;Education': 2, 'Puzzle;Education': 1, 'Role Playing;Education': 1, 'Role Playing;Brain Games': 1, 'Strategy;Education': 1, 'Racing;Pretend Play': 1, 'Communication;Creativity': 1, 'Strategy;Creativity': 1}\n",
      "{'Social Networking': 167, 'Photo & Video': 349, 'Games': 3862, 'Music': 138, 'Reference': 64, 'Health & Fitness': 180, 'Weather': 72, 'Utilities': 248, 'Travel': 81, 'Shopping': 122, 'News': 75, 'Navigation': 46, 'Lifestyle': 144, 'Entertainment': 535, 'Food & Drink': 63, 'Sports': 114, 'Book': 112, 'Finance': 104, 'Education': 453, 'Productivity': 178, 'Business': 57, 'Catalogs': 10, 'Medical': 23}\n"
     ]
    }
   ],
   "source": [
    "def frequency_table(dataset, column_index, is_header = False):\n",
    "    frequency_table = {}\n",
    "    start = int(is_header)\n",
    "    total_frequency = len(dataset) - int(is_header)\n",
    "    for row in dataset[start:]:\n",
    "        row_column = row[column_index]\n",
    "        if row_column not in frequency_table:\n",
    "            frequency_table[row_column] = 1\n",
    "        else:\n",
    "            frequency_table[row_column] += 1\n",
    "    return frequency_table\n",
    "\n",
    "def percentage_table(dataset, column_index, is_header = False):\n",
    "    frequency_table = frequency_table(dataset, column_index, is_header = is_header)\n",
    "    percentage_table = {}\n",
    "    total_frequency = len(dataset) - int(is_header)\n",
    "    for unique_value in frequency_table:\n",
    "        frequency = frequency_table[unique_value]\n",
    "        percentage = frequency / total_frequency\n",
    "        percentage_table[unique_value] = percentage\n",
    "    return percentage_table\n",
    "\n",
    "def display_table(table, reverse = False):\n",
    "    display_table = []\n",
    "    for key in table:\n",
    "        value = table[key]\n",
    "        table_tuple = (value, key)\n",
    "        display_table.append(table_tuple)\n",
    "    sorted_table = sorted(display_table, reverse = reverse)\n",
    "    return sorted_table\n",
    "\n",
    "google_play_store_category = frequency_table(google_play_store, 1, is_header = True)\n",
    "print(google_play_store_category)\n",
    "print(display_table(google_play_store_category, reverse = False))\n",
    "print(display_table(google_play_store_category, reverse  = True))\n",
    "\n",
    "google_play_store_genre = frequency_table(google_play_store, 9, is_header = True)\n",
    "print(google_play_store_genre)\n",
    "\n",
    "app_store_prime_genre = frequency_table(app_store, 11, is_header = True)\n",
    "print(app_store_prime_genre)\n",
    "    "
   ]
  }
 ],
 "metadata": {
  "kernelspec": {
   "display_name": "Python 3",
   "language": "python",
   "name": "python3"
  },
  "language_info": {
   "codemirror_mode": {
    "name": "ipython",
    "version": 3
   },
   "file_extension": ".py",
   "mimetype": "text/x-python",
   "name": "python",
   "nbconvert_exporter": "python",
   "pygments_lexer": "ipython3",
   "version": "3.12.3"
  }
 },
 "nbformat": 4,
 "nbformat_minor": 2
}
